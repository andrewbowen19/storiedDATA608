{
 "cells": [
  {
   "cell_type": "markdown",
   "metadata": {},
   "source": [
    "# Story 5\n",
    "\n",
    "Andrew Bowen    \n",
    "DATA 608    \n",
    "CUNY Data Science"
   ]
  },
  {
   "cell_type": "code",
   "execution_count": 106,
   "metadata": {},
   "outputs": [],
   "source": [
    "from matplotlib import pyplot as plt\n",
    "import requests\n",
    "import json\n",
    "import pandas as pd\n",
    "from io import StringIO, BytesIO\n",
    "import numpy as np\n",
    "import os\n",
    "import gzip"
   ]
  },
  {
   "cell_type": "markdown",
   "metadata": {},
   "source": [
    "## Data Sources\n",
    "\n",
    "- [National Oceanic and Atmospheric Administration](https://www.ncei.noaa.gov/access/monitoring/climate-at-a-glance/global/time-series/globe/land_ocean/1/9/1990-2023) - global time series data for \n",
    "temperature anomaly since 1990 (posted on [GitHub here]())\n",
    "- [NOAA API](https://www.ncdc.noaa.gov/cdo-web/webservices/v2#gettingStarted)\n",
    "- [National Centers for Environmental Information Storm Event Database](https://www.ncdc.noaa.gov/stormevents/ftp.jsp) - data since 1950 no different storm events"
   ]
  },
  {
   "cell_type": "code",
   "execution_count": 12,
   "metadata": {},
   "outputs": [
    {
     "data": {
      "text/plain": [
       "()"
      ]
     },
     "execution_count": 12,
     "metadata": {},
     "output_type": "execute_result"
    }
   ],
   "source": [
    "()"
   ]
  },
  {
   "cell_type": "code",
   "execution_count": 3,
   "metadata": {},
   "outputs": [
    {
     "data": {
      "text/html": [
       "<div>\n",
       "<style scoped>\n",
       "    .dataframe tbody tr th:only-of-type {\n",
       "        vertical-align: middle;\n",
       "    }\n",
       "\n",
       "    .dataframe tbody tr th {\n",
       "        vertical-align: top;\n",
       "    }\n",
       "\n",
       "    .dataframe thead th {\n",
       "        text-align: right;\n",
       "    }\n",
       "</style>\n",
       "<table border=\"1\" class=\"dataframe\">\n",
       "  <thead>\n",
       "    <tr style=\"text-align: right;\">\n",
       "      <th></th>\n",
       "      <th>Year</th>\n",
       "      <th>Anomaly</th>\n",
       "    </tr>\n",
       "  </thead>\n",
       "  <tbody>\n",
       "    <tr>\n",
       "      <th>0</th>\n",
       "      <td>1990</td>\n",
       "      <td>0.30</td>\n",
       "    </tr>\n",
       "    <tr>\n",
       "      <th>1</th>\n",
       "      <td>1991</td>\n",
       "      <td>0.39</td>\n",
       "    </tr>\n",
       "    <tr>\n",
       "      <th>2</th>\n",
       "      <td>1992</td>\n",
       "      <td>0.06</td>\n",
       "    </tr>\n",
       "    <tr>\n",
       "      <th>3</th>\n",
       "      <td>1993</td>\n",
       "      <td>0.21</td>\n",
       "    </tr>\n",
       "    <tr>\n",
       "      <th>4</th>\n",
       "      <td>1994</td>\n",
       "      <td>0.27</td>\n",
       "    </tr>\n",
       "  </tbody>\n",
       "</table>\n",
       "</div>"
      ],
      "text/plain": [
       "   Year  Anomaly\n",
       "0  1990     0.30\n",
       "1  1991     0.39\n",
       "2  1992     0.06\n",
       "3  1993     0.21\n",
       "4  1994     0.27"
      ]
     },
     "execution_count": 3,
     "metadata": {},
     "output_type": "execute_result"
    }
   ],
   "source": [
    "# Read in Temperature anomaly data\n",
    "temps = pd.read_csv(\"data/global-temps.csv\", header=4)\n",
    "temps.head()"
   ]
  },
  {
   "cell_type": "markdown",
   "metadata": {},
   "source": [
    "## Data Wrangling"
   ]
  },
  {
   "cell_type": "code",
   "execution_count": 4,
   "metadata": {},
   "outputs": [
    {
     "data": {
      "text/html": [
       "<div>\n",
       "<style scoped>\n",
       "    .dataframe tbody tr th:only-of-type {\n",
       "        vertical-align: middle;\n",
       "    }\n",
       "\n",
       "    .dataframe tbody tr th {\n",
       "        vertical-align: top;\n",
       "    }\n",
       "\n",
       "    .dataframe thead th {\n",
       "        text-align: right;\n",
       "    }\n",
       "</style>\n",
       "<table border=\"1\" class=\"dataframe\">\n",
       "  <thead>\n",
       "    <tr style=\"text-align: right;\">\n",
       "      <th></th>\n",
       "      <th>year</th>\n",
       "      <th>anomaly</th>\n",
       "    </tr>\n",
       "  </thead>\n",
       "  <tbody>\n",
       "    <tr>\n",
       "      <th>0</th>\n",
       "      <td>1990</td>\n",
       "      <td>0.30</td>\n",
       "    </tr>\n",
       "    <tr>\n",
       "      <th>1</th>\n",
       "      <td>1991</td>\n",
       "      <td>0.39</td>\n",
       "    </tr>\n",
       "    <tr>\n",
       "      <th>2</th>\n",
       "      <td>1992</td>\n",
       "      <td>0.06</td>\n",
       "    </tr>\n",
       "    <tr>\n",
       "      <th>3</th>\n",
       "      <td>1993</td>\n",
       "      <td>0.21</td>\n",
       "    </tr>\n",
       "    <tr>\n",
       "      <th>4</th>\n",
       "      <td>1994</td>\n",
       "      <td>0.27</td>\n",
       "    </tr>\n",
       "  </tbody>\n",
       "</table>\n",
       "</div>"
      ],
      "text/plain": [
       "   year  anomaly\n",
       "0  1990     0.30\n",
       "1  1991     0.39\n",
       "2  1992     0.06\n",
       "3  1993     0.21\n",
       "4  1994     0.27"
      ]
     },
     "execution_count": 4,
     "metadata": {},
     "output_type": "execute_result"
    }
   ],
   "source": [
    "# Clean up temperature Data\n",
    "temps.columns = [c.lower() for c in temps.columns]\n",
    "\n",
    "temps['year'] = temps.year.astype(str)\n",
    "temps.head()"
   ]
  },
  {
   "cell_type": "markdown",
   "metadata": {},
   "source": [
    "A *temperature anomaly* in short means a deviation from the average value. In this case, our dataset about shows how much each year *deviated* from the average temperature over the period 1900 - 2000. A postivie value indicates a temperature *above* the average. Enough italics, let's quickly plot our temperature anomalies over time"
   ]
  },
  {
   "cell_type": "code",
   "execution_count": 5,
   "metadata": {},
   "outputs": [
    {
     "data": {
      "image/png": "[encoded data removed]",
      "text/plain": [
       "<Figure size 576x720 with 1 Axes>"
      ]
     },
     "metadata": {
      "needs_background": "light"
     },
     "output_type": "display_data"
    }
   ],
   "source": [
    "# Plot temperature anomalies\n",
    "plt.figure(figsize=(8, 10))\n",
    "\n",
    "plt.plot(temps['year'], temps['anomaly'])\n",
    "\n",
    "# Add labels and title\n",
    "plt.xlabel(\"Year\")\n",
    "plt.ylabel(r\"Temperature Anonaly ($\\degree C$)\")\n",
    "\n",
    "plt.xticks(rotation=45)\n",
    "plt.suptitle(r\"Annual Global Temperature Anomalies: 1990 - 2023 ($\\degree C$)\", fontsize=18)\n",
    "plt.title(\"Annual average temperature has been getting further and further above the \\naverage temperature value over the same period. In short, the earth is warming up!\")\n",
    "\n",
    "plt.show()"
   ]
  },
  {
   "cell_type": "code",
   "execution_count": 6,
   "metadata": {},
   "outputs": [
    {
     "name": "stdout",
     "output_type": "stream",
     "text": [
      "CeWlSDqldFjKqXONEEKAbofsvQelHhlP\n"
     ]
    }
   ],
   "source": [
    "token = os.environ[\"NOAA_TOKEN\"]"
   ]
  },
  {
   "cell_type": "code",
   "execution_count": 81,
   "metadata": {},
   "outputs": [
    {
     "data": {
      "text/html": [
       "<div>\n",
       "<style scoped>\n",
       "    .dataframe tbody tr th:only-of-type {\n",
       "        vertical-align: middle;\n",
       "    }\n",
       "\n",
       "    .dataframe tbody tr th {\n",
       "        vertical-align: top;\n",
       "    }\n",
       "\n",
       "    .dataframe thead th {\n",
       "        text-align: right;\n",
       "    }\n",
       "</style>\n",
       "<table border=\"1\" class=\"dataframe\">\n",
       "  <thead>\n",
       "    <tr style=\"text-align: right;\">\n",
       "      <th></th>\n",
       "      <th>Name</th>\n",
       "      <th>Last modified</th>\n",
       "      <th>Size</th>\n",
       "      <th>Description</th>\n",
       "    </tr>\n",
       "  </thead>\n",
       "  <tbody>\n",
       "    <tr>\n",
       "      <th>199</th>\n",
       "      <td>StormEvents_locations-ftp_v1.0_d2019_c20231017...</td>\n",
       "      <td>2023-10-17 09:23</td>\n",
       "      <td>1.7M</td>\n",
       "      <td>NaN</td>\n",
       "    </tr>\n",
       "    <tr>\n",
       "      <th>200</th>\n",
       "      <td>StormEvents_locations-ftp_v1.0_d2020_c20230927...</td>\n",
       "      <td>2023-09-27 14:25</td>\n",
       "      <td>1.4M</td>\n",
       "      <td>NaN</td>\n",
       "    </tr>\n",
       "    <tr>\n",
       "      <th>201</th>\n",
       "      <td>StormEvents_locations-ftp_v1.0_d2021_c20231017...</td>\n",
       "      <td>2023-10-17 09:24</td>\n",
       "      <td>1.2M</td>\n",
       "      <td>NaN</td>\n",
       "    </tr>\n",
       "    <tr>\n",
       "      <th>202</th>\n",
       "      <td>StormEvents_locations-ftp_v1.0_d2022_c20231017...</td>\n",
       "      <td>2023-10-17 09:25</td>\n",
       "      <td>929K</td>\n",
       "      <td>NaN</td>\n",
       "    </tr>\n",
       "    <tr>\n",
       "      <th>203</th>\n",
       "      <td>StormEvents_locations-ftp_v1.0_d2023_c20231017...</td>\n",
       "      <td>2023-10-17 09:25</td>\n",
       "      <td>942K</td>\n",
       "      <td>NaN</td>\n",
       "    </tr>\n",
       "  </tbody>\n",
       "</table>\n",
       "</div>"
      ],
      "text/plain": [
       "                                                  Name     Last modified  \\\n",
       "199  StormEvents_locations-ftp_v1.0_d2019_c20231017...  2023-10-17 09:23   \n",
       "200  StormEvents_locations-ftp_v1.0_d2020_c20230927...  2023-09-27 14:25   \n",
       "201  StormEvents_locations-ftp_v1.0_d2021_c20231017...  2023-10-17 09:24   \n",
       "202  StormEvents_locations-ftp_v1.0_d2022_c20231017...  2023-10-17 09:25   \n",
       "203  StormEvents_locations-ftp_v1.0_d2023_c20231017...  2023-10-17 09:25   \n",
       "\n",
       "     Size  Description  \n",
       "199  1.7M          NaN  \n",
       "200  1.4M          NaN  \n",
       "201  1.2M          NaN  \n",
       "202  929K          NaN  \n",
       "203  942K          NaN  "
      ]
     },
     "execution_count": 81,
     "metadata": {},
     "output_type": "execute_result"
    }
   ],
   "source": [
    "file_index = pd.read_html(\"https://www.ncei.noaa.gov/pub/data/swdi/stormevents/csvfiles/\")[0]\n",
    "file_index = file_index.iloc[4:204]\n"
   ]
  },
  {
   "cell_type": "code",
   "execution_count": 100,
   "metadata": {},
   "outputs": [
    {
     "data": {
      "text/html": [
       "<div>\n",
       "<style scoped>\n",
       "    .dataframe tbody tr th:only-of-type {\n",
       "        vertical-align: middle;\n",
       "    }\n",
       "\n",
       "    .dataframe tbody tr th {\n",
       "        vertical-align: top;\n",
       "    }\n",
       "\n",
       "    .dataframe thead th {\n",
       "        text-align: right;\n",
       "    }\n",
       "</style>\n",
       "<table border=\"1\" class=\"dataframe\">\n",
       "  <thead>\n",
       "    <tr style=\"text-align: right;\">\n",
       "      <th></th>\n",
       "      <th>Name</th>\n",
       "      <th>Last modified</th>\n",
       "      <th>Size</th>\n",
       "      <th>Description</th>\n",
       "      <th>year</th>\n",
       "    </tr>\n",
       "  </thead>\n",
       "  <tbody>\n",
       "    <tr>\n",
       "      <th>52</th>\n",
       "      <td>StormEvents_details-ftp_v1.0_d1998_c20220425.c...</td>\n",
       "      <td>2022-04-25 15:06</td>\n",
       "      <td>9.8M</td>\n",
       "      <td>NaN</td>\n",
       "      <td>1998</td>\n",
       "    </tr>\n",
       "    <tr>\n",
       "      <th>53</th>\n",
       "      <td>StormEvents_details-ftp_v1.0_d1999_c20220425.c...</td>\n",
       "      <td>2022-04-25 15:06</td>\n",
       "      <td>9.9M</td>\n",
       "      <td>NaN</td>\n",
       "      <td>1999</td>\n",
       "    </tr>\n",
       "    <tr>\n",
       "      <th>54</th>\n",
       "      <td>StormEvents_details-ftp_v1.0_d2000_c20220425.c...</td>\n",
       "      <td>2022-04-25 15:06</td>\n",
       "      <td>7.5M</td>\n",
       "      <td>NaN</td>\n",
       "      <td>2000</td>\n",
       "    </tr>\n",
       "    <tr>\n",
       "      <th>55</th>\n",
       "      <td>StormEvents_details-ftp_v1.0_d2001_c20220425.c...</td>\n",
       "      <td>2022-04-25 15:06</td>\n",
       "      <td>6.6M</td>\n",
       "      <td>NaN</td>\n",
       "      <td>2001</td>\n",
       "    </tr>\n",
       "    <tr>\n",
       "      <th>56</th>\n",
       "      <td>StormEvents_details-ftp_v1.0_d2002_c20220425.c...</td>\n",
       "      <td>2022-04-25 15:06</td>\n",
       "      <td>6.9M</td>\n",
       "      <td>NaN</td>\n",
       "      <td>2002</td>\n",
       "    </tr>\n",
       "  </tbody>\n",
       "</table>\n",
       "</div>"
      ],
      "text/plain": [
       "                                                 Name     Last modified  Size  \\\n",
       "52  StormEvents_details-ftp_v1.0_d1998_c20220425.c...  2022-04-25 15:06  9.8M   \n",
       "53  StormEvents_details-ftp_v1.0_d1999_c20220425.c...  2022-04-25 15:06  9.9M   \n",
       "54  StormEvents_details-ftp_v1.0_d2000_c20220425.c...  2022-04-25 15:06  7.5M   \n",
       "55  StormEvents_details-ftp_v1.0_d2001_c20220425.c...  2022-04-25 15:06  6.6M   \n",
       "56  StormEvents_details-ftp_v1.0_d2002_c20220425.c...  2022-04-25 15:06  6.9M   \n",
       "\n",
       "    Description  year  \n",
       "52          NaN  1998  \n",
       "53          NaN  1999  \n",
       "54          NaN  2000  \n",
       "55          NaN  2001  \n",
       "56          NaN  2002  "
      ]
     },
     "execution_count": 100,
     "metadata": {},
     "output_type": "execute_result"
    }
   ],
   "source": [
    "# Clean up file index data a bit\n",
    "file_index['year'] = file_index['Name'].str.extract(\"d(\\d{4})\").astype(int)\n",
    "\n",
    "# We only care about the past 25 years, so let's filter a bit\n",
    "file_index = file_index.loc[file_index.year >= 1998]\n",
    "\n",
    "file_index.head()"
   ]
  },
  {
   "cell_type": "code",
   "execution_count": 109,
   "metadata": {},
   "outputs": [],
   "source": [
    "def get_storm_data(path: str):\n",
    "    \"\"\"\n",
    "    Grab file from NCEI Storm Database\n",
    "    Grabs compressed CSV file, decodes it and dumps to pandas dataframe\n",
    "        - https://www.ncei.noaa.gov/pub/data/swdi/stormevents/csvfiles/\n",
    "\n",
    "    params:\n",
    "        path (str): Filename or path in the NCEI database\n",
    "            (e.g., `StormEvents_details-ftp_v1.0_d1950_c20210803.csv.gz`)\n",
    "    returns:\n",
    "        dat: (pd.DataFrame) dataframe for a single file\n",
    "    \"\"\"\n",
    "\n",
    "    # Get file content\n",
    "    url = f\"https://www.ncei.noaa.gov/pub/data/swdi/stormevents/csvfiles/{path}\"\n",
    "    r = requests.get(url, stream=True)\n",
    "    file_like_object = BytesIO(r.content)\n",
    "    \n",
    "    # Open and decode file content\n",
    "    dat = None\n",
    "    with gzip.open(file_like_object) as g:\n",
    "        content = g.read()\n",
    "        dat = pd.read_csv(StringIO(content.decode()))\n",
    "\n",
    "    return dat\n",
    "\n"
   ]
  },
  {
   "cell_type": "code",
   "execution_count": 101,
   "metadata": {},
   "outputs": [],
   "source": [
    "# Get detail files from TOC\n",
    "detail_indices = file_index.Name.str.contains(\"details\").values\n",
    "detail_indices\n",
    "\n",
    "detail_files = file_index.loc[detail_indices]\n",
    "\n",
    "# Now for fatalities\n",
    "fatality_indices = file_index.Name.str.contains(\"fatalities\").values\n",
    "fatality_indices\n",
    "fatality_files = file_index.iloc[fatality_indices]\n"
   ]
  },
  {
   "cell_type": "code",
   "execution_count": 102,
   "metadata": {},
   "outputs": [
    {
     "name": "stderr",
     "output_type": "stream",
     "text": [
      "/var/folders/60/nwdftyjj6cg3ysz_pf9stwtc0000gn/T/ipykernel_71970/3806064280.py:6: DtypeWarning: Columns (28) have mixed types.Specify dtype option on import or set low_memory=False.\n",
      "  dat = get_storm_data(filepath)\n",
      "/var/folders/60/nwdftyjj6cg3ysz_pf9stwtc0000gn/T/ipykernel_71970/3806064280.py:6: DtypeWarning: Columns (29,34,35,37) have mixed types.Specify dtype option on import or set low_memory=False.\n",
      "  dat = get_storm_data(filepath)\n"
     ]
    }
   ],
   "source": [
    "# Get detail files first\n",
    "detail_dfs = []\n",
    "\n",
    "for index, row in detail_files.iterrows():\n",
    "    filepath = row['Name']\n",
    "    dat = get_storm_data(filepath)\n",
    "    detail_dfs.append(dat)"
   ]
  },
  {
   "cell_type": "code",
   "execution_count": 103,
   "metadata": {},
   "outputs": [],
   "source": [
    "details = pd.concat(detail_dfs)\n",
    "\n",
    "# Uncomment if you want this file written locally\n",
    "details.to_csv(\"data/storm-details.csv\", index=False)"
   ]
  },
  {
   "cell_type": "code",
   "execution_count": 104,
   "metadata": {},
   "outputs": [],
   "source": [
    "# Get fatality files next\n",
    "fatality_dfs = []\n",
    "\n",
    "for index, row in fatality_files.iterrows():\n",
    "    filepath = row['Name']\n",
    "    dat = get_storm_data(filepath)\n",
    "    fatality_dfs.append(dat)\n",
    "\n"
   ]
  },
  {
   "cell_type": "code",
   "execution_count": 105,
   "metadata": {},
   "outputs": [],
   "source": [
    "fatalities = pd.concat(fatality_dfs)\n",
    "\n",
    "# Uncomment if you want this file written locally\n",
    "fatalities.to_csv(\"data/storm-fatalities.csv\", index=False)"
   ]
  },
  {
   "cell_type": "code",
   "execution_count": 94,
   "metadata": {},
   "outputs": [
    {
     "data": {
      "text/plain": [
       "21875"
      ]
     },
     "execution_count": 94,
     "metadata": {},
     "output_type": "execute_result"
    }
   ],
   "source": []
  },
  {
   "cell_type": "code",
   "execution_count": null,
   "metadata": {},
   "outputs": [],
   "source": []
  }
 ],
 "metadata": {
  "kernelspec": {
   "display_name": "Python 3",
   "language": "python",
   "name": "python3"
  },
  "language_info": {
   "codemirror_mode": {
    "name": "ipython",
    "version": 3
   },
   "file_extension": ".py",
   "mimetype": "text/x-python",
   "name": "python",
   "nbconvert_exporter": "python",
   "pygments_lexer": "ipython3",
   "version": "3.9.7"
  }
 },
 "nbformat": 4,
 "nbformat_minor": 2
}
