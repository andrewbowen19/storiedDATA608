{
 "cells": [
  {
   "cell_type": "markdown",
   "metadata": {},
   "source": [
    "# Story 5\n",
    "\n",
    "Andrew Bowen    \n",
    "DATA 608    \n",
    "CUNY Data Science"
   ]
  },
  {
   "cell_type": "code",
   "execution_count": 1,
   "metadata": {},
   "outputs": [],
   "source": [
    "from matplotlib import pyplot as plt\n",
    "import requests\n",
    "import json\n",
    "import pandas as pd\n",
    "from io import StringIO, BytesIO\n",
    "import numpy as np\n",
    "import os\n",
    "import gzip"
   ]
  },
  {
   "cell_type": "markdown",
   "metadata": {},
   "source": [
    "## Data Sources\n",
    "\n",
    "- [National Oceanic and Atmospheric Administration](https://www.ncei.noaa.gov/access/monitoring/climate-at-a-glance/global/time-series/globe/land_ocean/1/9/1990-2023) - global time series data for \n",
    "temperature anomaly since 1990 (posted on [GitHub here]())\n",
    "- [NOAA API](https://www.ncdc.noaa.gov/cdo-web/webservices/v2#gettingStarted)\n",
    "- [National Centers for Environmental Information Storm Event Database](https://www.ncdc.noaa.gov/stormevents/ftp.jsp) - data since 1950 no different storm events"
   ]
  },
  {
   "cell_type": "code",
   "execution_count": 2,
   "metadata": {},
   "outputs": [
    {
     "data": {
      "text/plain": [
       "()"
      ]
     },
     "execution_count": 2,
     "metadata": {},
     "output_type": "execute_result"
    }
   ],
   "source": [
    "()"
   ]
  },
  {
   "cell_type": "code",
   "execution_count": 3,
   "metadata": {},
   "outputs": [
    {
     "data": {
      "text/html": [
       "<div>\n",
       "<style scoped>\n",
       "    .dataframe tbody tr th:only-of-type {\n",
       "        vertical-align: middle;\n",
       "    }\n",
       "\n",
       "    .dataframe tbody tr th {\n",
       "        vertical-align: top;\n",
       "    }\n",
       "\n",
       "    .dataframe thead th {\n",
       "        text-align: right;\n",
       "    }\n",
       "</style>\n",
       "<table border=\"1\" class=\"dataframe\">\n",
       "  <thead>\n",
       "    <tr style=\"text-align: right;\">\n",
       "      <th></th>\n",
       "      <th>Year</th>\n",
       "      <th>Anomaly</th>\n",
       "    </tr>\n",
       "  </thead>\n",
       "  <tbody>\n",
       "    <tr>\n",
       "      <th>0</th>\n",
       "      <td>1990</td>\n",
       "      <td>0.30</td>\n",
       "    </tr>\n",
       "    <tr>\n",
       "      <th>1</th>\n",
       "      <td>1991</td>\n",
       "      <td>0.39</td>\n",
       "    </tr>\n",
       "    <tr>\n",
       "      <th>2</th>\n",
       "      <td>1992</td>\n",
       "      <td>0.06</td>\n",
       "    </tr>\n",
       "    <tr>\n",
       "      <th>3</th>\n",
       "      <td>1993</td>\n",
       "      <td>0.21</td>\n",
       "    </tr>\n",
       "    <tr>\n",
       "      <th>4</th>\n",
       "      <td>1994</td>\n",
       "      <td>0.27</td>\n",
       "    </tr>\n",
       "  </tbody>\n",
       "</table>\n",
       "</div>"
      ],
      "text/plain": [
       "   Year  Anomaly\n",
       "0  1990     0.30\n",
       "1  1991     0.39\n",
       "2  1992     0.06\n",
       "3  1993     0.21\n",
       "4  1994     0.27"
      ]
     },
     "execution_count": 3,
     "metadata": {},
     "output_type": "execute_result"
    }
   ],
   "source": [
    "# Read in Temperature anomaly data\n",
    "temps = pd.read_csv(\"data/global-temps.csv\", header=4)\n",
    "temps.head()"
   ]
  },
  {
   "cell_type": "markdown",
   "metadata": {},
   "source": [
    "## Data Wrangling"
   ]
  },
  {
   "cell_type": "code",
   "execution_count": 4,
   "metadata": {},
   "outputs": [
    {
     "data": {
      "text/html": [
       "<div>\n",
       "<style scoped>\n",
       "    .dataframe tbody tr th:only-of-type {\n",
       "        vertical-align: middle;\n",
       "    }\n",
       "\n",
       "    .dataframe tbody tr th {\n",
       "        vertical-align: top;\n",
       "    }\n",
       "\n",
       "    .dataframe thead th {\n",
       "        text-align: right;\n",
       "    }\n",
       "</style>\n",
       "<table border=\"1\" class=\"dataframe\">\n",
       "  <thead>\n",
       "    <tr style=\"text-align: right;\">\n",
       "      <th></th>\n",
       "      <th>year</th>\n",
       "      <th>anomaly</th>\n",
       "    </tr>\n",
       "  </thead>\n",
       "  <tbody>\n",
       "    <tr>\n",
       "      <th>0</th>\n",
       "      <td>1990</td>\n",
       "      <td>0.30</td>\n",
       "    </tr>\n",
       "    <tr>\n",
       "      <th>1</th>\n",
       "      <td>1991</td>\n",
       "      <td>0.39</td>\n",
       "    </tr>\n",
       "    <tr>\n",
       "      <th>2</th>\n",
       "      <td>1992</td>\n",
       "      <td>0.06</td>\n",
       "    </tr>\n",
       "    <tr>\n",
       "      <th>3</th>\n",
       "      <td>1993</td>\n",
       "      <td>0.21</td>\n",
       "    </tr>\n",
       "    <tr>\n",
       "      <th>4</th>\n",
       "      <td>1994</td>\n",
       "      <td>0.27</td>\n",
       "    </tr>\n",
       "  </tbody>\n",
       "</table>\n",
       "</div>"
      ],
      "text/plain": [
       "   year  anomaly\n",
       "0  1990     0.30\n",
       "1  1991     0.39\n",
       "2  1992     0.06\n",
       "3  1993     0.21\n",
       "4  1994     0.27"
      ]
     },
     "execution_count": 4,
     "metadata": {},
     "output_type": "execute_result"
    }
   ],
   "source": [
    "# Clean up temperature Data\n",
    "temps.columns = [c.lower() for c in temps.columns]\n",
    "\n",
    "temps['year'] = temps.year.astype(str)\n",
    "temps.head()"
   ]
  },
  {
   "cell_type": "markdown",
   "metadata": {},
   "source": [
    "A *temperature anomaly* in short means a deviation from the average value. In this case, our dataset about shows how much each year *deviated* from the average temperature over the period 1900 - 2000. A postivie value indicates a temperature *above* the average. Enough italics, let's quickly plot our temperature anomalies over time"
   ]
  },
  {
   "cell_type": "code",
   "execution_count": 5,
   "metadata": {},
   "outputs": [
    {
     "data": {
      "image/png": "[encoded data removed]",
      "text/plain": [
       "<Figure size 576x720 with 1 Axes>"
      ]
     },
     "metadata": {
      "needs_background": "light"
     },
     "output_type": "display_data"
    }
   ],
   "source": [
    "# Plot temperature anomalies\n",
    "plt.figure(figsize=(8, 10))\n",
    "\n",
    "plt.plot(temps['year'], temps['anomaly'])\n",
    "\n",
    "# Add labels and title\n",
    "plt.xlabel(\"Year\")\n",
    "plt.ylabel(r\"Temperature Anonaly ($\\degree C$)\")\n",
    "\n",
    "plt.xticks(rotation=45)\n",
    "plt.suptitle(r\"Annual Global Temperature Anomalies: 1990 - 2023 ($\\degree C$)\", fontsize=18)\n",
    "plt.title(\"Annual average temperature has been getting further and further above the \\naverage temperature value over the same period. In short, the earth is warming up!\")\n",
    "\n",
    "plt.show()"
   ]
  },
  {
   "cell_type": "code",
   "execution_count": 6,
   "metadata": {},
   "outputs": [],
   "source": [
    "token = os.environ[\"NOAA_TOKEN\"]"
   ]
  },
  {
   "cell_type": "code",
   "execution_count": 7,
   "metadata": {},
   "outputs": [],
   "source": [
    "file_index = pd.read_html(\"https://www.ncei.noaa.gov/pub/data/swdi/stormevents/csvfiles/\")[0]\n",
    "file_index = file_index.iloc[4:204]\n"
   ]
  },
  {
   "cell_type": "code",
   "execution_count": 8,
   "metadata": {},
   "outputs": [
    {
     "data": {
      "text/html": [
       "<div>\n",
       "<style scoped>\n",
       "    .dataframe tbody tr th:only-of-type {\n",
       "        vertical-align: middle;\n",
       "    }\n",
       "\n",
       "    .dataframe tbody tr th {\n",
       "        vertical-align: top;\n",
       "    }\n",
       "\n",
       "    .dataframe thead th {\n",
       "        text-align: right;\n",
       "    }\n",
       "</style>\n",
       "<table border=\"1\" class=\"dataframe\">\n",
       "  <thead>\n",
       "    <tr style=\"text-align: right;\">\n",
       "      <th></th>\n",
       "      <th>Name</th>\n",
       "      <th>Last modified</th>\n",
       "      <th>Size</th>\n",
       "      <th>Description</th>\n",
       "      <th>year</th>\n",
       "    </tr>\n",
       "  </thead>\n",
       "  <tbody>\n",
       "    <tr>\n",
       "      <th>52</th>\n",
       "      <td>StormEvents_details-ftp_v1.0_d1998_c20220425.c...</td>\n",
       "      <td>2022-04-25 15:06</td>\n",
       "      <td>9.8M</td>\n",
       "      <td>NaN</td>\n",
       "      <td>1998</td>\n",
       "    </tr>\n",
       "    <tr>\n",
       "      <th>53</th>\n",
       "      <td>StormEvents_details-ftp_v1.0_d1999_c20220425.c...</td>\n",
       "      <td>2022-04-25 15:06</td>\n",
       "      <td>9.9M</td>\n",
       "      <td>NaN</td>\n",
       "      <td>1999</td>\n",
       "    </tr>\n",
       "    <tr>\n",
       "      <th>54</th>\n",
       "      <td>StormEvents_details-ftp_v1.0_d2000_c20220425.c...</td>\n",
       "      <td>2022-04-25 15:06</td>\n",
       "      <td>7.5M</td>\n",
       "      <td>NaN</td>\n",
       "      <td>2000</td>\n",
       "    </tr>\n",
       "    <tr>\n",
       "      <th>55</th>\n",
       "      <td>StormEvents_details-ftp_v1.0_d2001_c20220425.c...</td>\n",
       "      <td>2022-04-25 15:06</td>\n",
       "      <td>6.6M</td>\n",
       "      <td>NaN</td>\n",
       "      <td>2001</td>\n",
       "    </tr>\n",
       "    <tr>\n",
       "      <th>56</th>\n",
       "      <td>StormEvents_details-ftp_v1.0_d2002_c20220425.c...</td>\n",
       "      <td>2022-04-25 15:06</td>\n",
       "      <td>6.9M</td>\n",
       "      <td>NaN</td>\n",
       "      <td>2002</td>\n",
       "    </tr>\n",
       "  </tbody>\n",
       "</table>\n",
       "</div>"
      ],
      "text/plain": [
       "                                                 Name     Last modified  Size  \\\n",
       "52  StormEvents_details-ftp_v1.0_d1998_c20220425.c...  2022-04-25 15:06  9.8M   \n",
       "53  StormEvents_details-ftp_v1.0_d1999_c20220425.c...  2022-04-25 15:06  9.9M   \n",
       "54  StormEvents_details-ftp_v1.0_d2000_c20220425.c...  2022-04-25 15:06  7.5M   \n",
       "55  StormEvents_details-ftp_v1.0_d2001_c20220425.c...  2022-04-25 15:06  6.6M   \n",
       "56  StormEvents_details-ftp_v1.0_d2002_c20220425.c...  2022-04-25 15:06  6.9M   \n",
       "\n",
       "    Description  year  \n",
       "52          NaN  1998  \n",
       "53          NaN  1999  \n",
       "54          NaN  2000  \n",
       "55          NaN  2001  \n",
       "56          NaN  2002  "
      ]
     },
     "execution_count": 8,
     "metadata": {},
     "output_type": "execute_result"
    }
   ],
   "source": [
    "# Clean up file index data a bit\n",
    "file_index['year'] = file_index['Name'].str.extract(\"d(\\d{4})\").astype(int)\n",
    "\n",
    "# We only care about the past 25 years, so let's filter a bit\n",
    "file_index = file_index.loc[file_index.year >= 1998]\n",
    "\n",
    "file_index.head()"
   ]
  },
  {
   "cell_type": "code",
   "execution_count": 9,
   "metadata": {},
   "outputs": [],
   "source": [
    "def get_storm_data(path: str):\n",
    "    \"\"\"\n",
    "    Grab file from NCEI Storm Database\n",
    "    Grabs compressed CSV file, decodes it and dumps to pandas dataframe\n",
    "        - https://www.ncei.noaa.gov/pub/data/swdi/stormevents/csvfiles/\n",
    "\n",
    "    params:\n",
    "        path (str): Filename or path in the NCEI database\n",
    "            (e.g., `StormEvents_details-ftp_v1.0_d1950_c20210803.csv.gz`)\n",
    "    returns:\n",
    "        dat: (pd.DataFrame) dataframe for a single file\n",
    "    \"\"\"\n",
    "\n",
    "    # Get file content\n",
    "    url = f\"https://www.ncei.noaa.gov/pub/data/swdi/stormevents/csvfiles/{path}\"\n",
    "    r = requests.get(url, stream=True)\n",
    "    file_like_object = BytesIO(r.content)\n",
    "    \n",
    "    # Open and decode file content\n",
    "    dat = None\n",
    "    with gzip.open(file_like_object) as g:\n",
    "        content = g.read()\n",
    "        dat = pd.read_csv(StringIO(content.decode()))\n",
    "\n",
    "    return dat\n",
    "\n"
   ]
  },
  {
   "cell_type": "code",
   "execution_count": 10,
   "metadata": {},
   "outputs": [],
   "source": [
    "# Get detail files from TOC\n",
    "detail_indices = file_index.Name.str.contains(\"details\").values\n",
    "detail_indices\n",
    "\n",
    "detail_files = file_index.loc[detail_indices]\n",
    "\n",
    "# Now for fatalities\n",
    "fatality_indices = file_index.Name.str.contains(\"fatalities\").values\n",
    "fatality_indices\n",
    "fatality_files = file_index.iloc[fatality_indices]\n"
   ]
  },
  {
   "cell_type": "code",
   "execution_count": 11,
   "metadata": {},
   "outputs": [
    {
     "name": "stderr",
     "output_type": "stream",
     "text": [
      "/var/folders/60/nwdftyjj6cg3ysz_pf9stwtc0000gn/T/ipykernel_913/3806064280.py:6: DtypeWarning: Columns (28) have mixed types.Specify dtype option on import or set low_memory=False.\n",
      "  dat = get_storm_data(filepath)\n",
      "/var/folders/60/nwdftyjj6cg3ysz_pf9stwtc0000gn/T/ipykernel_913/3806064280.py:6: DtypeWarning: Columns (29,34,35,37) have mixed types.Specify dtype option on import or set low_memory=False.\n",
      "  dat = get_storm_data(filepath)\n"
     ]
    }
   ],
   "source": [
    "# Get detail files first\n",
    "detail_dfs = []\n",
    "\n",
    "for index, row in detail_files.iterrows():\n",
    "    filepath = row['Name']\n",
    "    dat = get_storm_data(filepath)\n",
    "    detail_dfs.append(dat)"
   ]
  },
  {
   "cell_type": "code",
   "execution_count": 63,
   "metadata": {},
   "outputs": [],
   "source": [
    "details = pd.concat(detail_dfs)\n",
    "\n",
    "# Uncomment if you want this file written locally\n",
    "# details.to_csv(\"data/storm-details.csv\", index=False)"
   ]
  },
  {
   "cell_type": "code",
   "execution_count": 13,
   "metadata": {},
   "outputs": [],
   "source": [
    "# Get fatality files next\n",
    "fatality_dfs = []\n",
    "\n",
    "for index, row in fatality_files.iterrows():\n",
    "    filepath = row['Name']\n",
    "    dat = get_storm_data(filepath)\n",
    "    fatality_dfs.append(dat)\n",
    "\n"
   ]
  },
  {
   "cell_type": "code",
   "execution_count": 14,
   "metadata": {},
   "outputs": [],
   "source": [
    "fatalities = pd.concat(fatality_dfs)\n",
    "\n",
    "# Uncomment if you want this file written locally\n",
    "# fatalities.to_csv(\"data/storm-fatalities.csv\", index=False)"
   ]
  },
  {
   "cell_type": "code",
   "execution_count": 122,
   "metadata": {},
   "outputs": [
    {
     "data": {
      "text/plain": [
       "category_roman\n",
       "I      342\n",
       "II      53\n",
       "III     26\n",
       "IV      42\n",
       "V        8\n",
       "Name: category_roman, dtype: int64"
      ]
     },
     "execution_count": 122,
     "metadata": {},
     "output_type": "execute_result"
    }
   ],
   "source": [
    "# Let's\n",
    "category_mapping = {\"1.0\": \"I\", \"2.0\": \"II\", \"3.0\": \"III\", \"4.0\": \"IV\", \"5.0\": \"V\"}\n",
    "details['category_roman'] = details['CATEGORY'].astype(str).map(category_mapping)\n",
    "\n",
    "categories = details.groupby(\"category_roman\")['category_roman'].count()\n",
    "categories"
   ]
  },
  {
   "cell_type": "code",
   "execution_count": 123,
   "metadata": {},
   "outputs": [
    {
     "data": {
      "text/plain": [
       "Text(0.5, 0.98, 'Hurricane Categories: 1998-2022, USA')"
      ]
     },
     "execution_count": 123,
     "metadata": {},
     "output_type": "execute_result"
    },
    {
     "data": {
      "image/png": "[encoded data removed]",
      "text/plain": [
       "<Figure size 720x720 with 1 Axes>"
      ]
     },
     "metadata": {
      "needs_background": "light"
     },
     "output_type": "display_data"
    }
   ],
   "source": [
    "\n",
    "\n",
    "f, ax = plt.subplots(figsize=(10, 10))\n",
    "plt.bar(categories.index, categories.values)\n",
    "\n",
    "plt.xlabel(\"Hurricane Category\")\n",
    "plt.ylabel(\"Number of Hurricanes\")\n",
    "\n",
    "plt.title(\"Most storms end up lower strength, despite more media coverage for category IV and V\")\n",
    "plt.suptitle(\"Hurricane Categories: 1998-2022, USA\", fontsize=18)\n"
   ]
  },
  {
   "cell_type": "markdown",
   "metadata": {},
   "source": [
    "This graph shows our distribution of categories of hurricanes well (how many hurricaness were in each category *in total*), but we're mostly interested in *change over time*. Primarily, **has the number of hurricanes in category IV and V *increased* over the past 25 years alongside rising temperatures?**"
   ]
  },
  {
   "cell_type": "code",
   "execution_count": 124,
   "metadata": {},
   "outputs": [
    {
     "data": {
      "text/html": [
       "<div>\n",
       "<style scoped>\n",
       "    .dataframe tbody tr th:only-of-type {\n",
       "        vertical-align: middle;\n",
       "    }\n",
       "\n",
       "    .dataframe tbody tr th {\n",
       "        vertical-align: top;\n",
       "    }\n",
       "\n",
       "    .dataframe thead th {\n",
       "        text-align: right;\n",
       "    }\n",
       "</style>\n",
       "<table border=\"1\" class=\"dataframe\">\n",
       "  <thead>\n",
       "    <tr style=\"text-align: right;\">\n",
       "      <th></th>\n",
       "      <th>BEGIN_YEARMONTH</th>\n",
       "      <th>BEGIN_DAY</th>\n",
       "      <th>BEGIN_TIME</th>\n",
       "      <th>END_YEARMONTH</th>\n",
       "      <th>END_DAY</th>\n",
       "      <th>END_TIME</th>\n",
       "      <th>EPISODE_ID</th>\n",
       "      <th>EVENT_ID</th>\n",
       "      <th>STATE</th>\n",
       "      <th>STATE_FIPS</th>\n",
       "      <th>...</th>\n",
       "      <th>BEGIN_LAT</th>\n",
       "      <th>BEGIN_LON</th>\n",
       "      <th>END_LAT</th>\n",
       "      <th>END_LON</th>\n",
       "      <th>EPISODE_NARRATIVE</th>\n",
       "      <th>EVENT_NARRATIVE</th>\n",
       "      <th>DATA_SOURCE</th>\n",
       "      <th>CETAGORY</th>\n",
       "      <th>cetgory_roman</th>\n",
       "      <th>category_roman</th>\n",
       "    </tr>\n",
       "  </thead>\n",
       "  <tbody>\n",
       "    <tr>\n",
       "      <th>52160</th>\n",
       "      <td>200909</td>\n",
       "      <td>15</td>\n",
       "      <td>100</td>\n",
       "      <td>200909</td>\n",
       "      <td>16</td>\n",
       "      <td>1300</td>\n",
       "      <td>34184</td>\n",
       "      <td>197872</td>\n",
       "      <td>GUAM</td>\n",
       "      <td>98.0</td>\n",
       "      <td>...</td>\n",
       "      <td>NaN</td>\n",
       "      <td>NaN</td>\n",
       "      <td>NaN</td>\n",
       "      <td>NaN</td>\n",
       "      <td>Tropical Depression 15W developed from a distu...</td>\n",
       "      <td>NaN</td>\n",
       "      <td>CSV</td>\n",
       "      <td>4.0</td>\n",
       "      <td>4.0</td>\n",
       "      <td>IV</td>\n",
       "    </tr>\n",
       "    <tr>\n",
       "      <th>30020</th>\n",
       "      <td>201212</td>\n",
       "      <td>2</td>\n",
       "      <td>1600</td>\n",
       "      <td>201212</td>\n",
       "      <td>3</td>\n",
       "      <td>1000</td>\n",
       "      <td>70984</td>\n",
       "      <td>426987</td>\n",
       "      <td>GUAM</td>\n",
       "      <td>98.0</td>\n",
       "      <td>...</td>\n",
       "      <td>NaN</td>\n",
       "      <td>NaN</td>\n",
       "      <td>NaN</td>\n",
       "      <td>NaN</td>\n",
       "      <td>After passing Chuuk on 28 November, Tropical S...</td>\n",
       "      <td>NaN</td>\n",
       "      <td>CSV</td>\n",
       "      <td>5.0</td>\n",
       "      <td>5.0</td>\n",
       "      <td>V</td>\n",
       "    </tr>\n",
       "    <tr>\n",
       "      <th>12884</th>\n",
       "      <td>201311</td>\n",
       "      <td>3</td>\n",
       "      <td>1900</td>\n",
       "      <td>201311</td>\n",
       "      <td>7</td>\n",
       "      <td>1900</td>\n",
       "      <td>81102</td>\n",
       "      <td>486009</td>\n",
       "      <td>GUAM</td>\n",
       "      <td>98.0</td>\n",
       "      <td>...</td>\n",
       "      <td>NaN</td>\n",
       "      <td>NaN</td>\n",
       "      <td>NaN</td>\n",
       "      <td>NaN</td>\n",
       "      <td>Haiyan crossed Micronesia from November 3rd to...</td>\n",
       "      <td>On the afternoon of November 1st scatterometer...</td>\n",
       "      <td>CSV</td>\n",
       "      <td>5.0</td>\n",
       "      <td>5.0</td>\n",
       "      <td>V</td>\n",
       "    </tr>\n",
       "    <tr>\n",
       "      <th>9756</th>\n",
       "      <td>201503</td>\n",
       "      <td>26</td>\n",
       "      <td>0</td>\n",
       "      <td>201503</td>\n",
       "      <td>31</td>\n",
       "      <td>2359</td>\n",
       "      <td>96339</td>\n",
       "      <td>579262</td>\n",
       "      <td>GUAM</td>\n",
       "      <td>98.0</td>\n",
       "      <td>...</td>\n",
       "      <td>NaN</td>\n",
       "      <td>NaN</td>\n",
       "      <td>NaN</td>\n",
       "      <td>NaN</td>\n",
       "      <td>Between the 26th and 31st of March, Typhoon Ma...</td>\n",
       "      <td>On the night of the 26th of March, a tropical ...</td>\n",
       "      <td>CSV</td>\n",
       "      <td>5.0</td>\n",
       "      <td>5.0</td>\n",
       "      <td>V</td>\n",
       "    </tr>\n",
       "    <tr>\n",
       "      <th>11205</th>\n",
       "      <td>201504</td>\n",
       "      <td>1</td>\n",
       "      <td>0</td>\n",
       "      <td>201504</td>\n",
       "      <td>2</td>\n",
       "      <td>0</td>\n",
       "      <td>99324</td>\n",
       "      <td>596410</td>\n",
       "      <td>GUAM</td>\n",
       "      <td>98.0</td>\n",
       "      <td>...</td>\n",
       "      <td>NaN</td>\n",
       "      <td>NaN</td>\n",
       "      <td>NaN</td>\n",
       "      <td>NaN</td>\n",
       "      <td>Typhoon Maysak had ravaged parts of Micronesia...</td>\n",
       "      <td>Typhoon Maysak formed over eastern Micronesia ...</td>\n",
       "      <td>CSV</td>\n",
       "      <td>5.0</td>\n",
       "      <td>5.0</td>\n",
       "      <td>V</td>\n",
       "    </tr>\n",
       "  </tbody>\n",
       "</table>\n",
       "<p>5 rows × 54 columns</p>\n",
       "</div>"
      ],
      "text/plain": [
       "       BEGIN_YEARMONTH  BEGIN_DAY  BEGIN_TIME  END_YEARMONTH  END_DAY  \\\n",
       "52160           200909         15         100         200909       16   \n",
       "30020           201212          2        1600         201212        3   \n",
       "12884           201311          3        1900         201311        7   \n",
       "9756            201503         26           0         201503       31   \n",
       "11205           201504          1           0         201504        2   \n",
       "\n",
       "       END_TIME  EPISODE_ID  EVENT_ID STATE  STATE_FIPS  ... BEGIN_LAT  \\\n",
       "52160      1300       34184    197872  GUAM        98.0  ...       NaN   \n",
       "30020      1000       70984    426987  GUAM        98.0  ...       NaN   \n",
       "12884      1900       81102    486009  GUAM        98.0  ...       NaN   \n",
       "9756       2359       96339    579262  GUAM        98.0  ...       NaN   \n",
       "11205         0       99324    596410  GUAM        98.0  ...       NaN   \n",
       "\n",
       "      BEGIN_LON END_LAT END_LON  \\\n",
       "52160       NaN     NaN     NaN   \n",
       "30020       NaN     NaN     NaN   \n",
       "12884       NaN     NaN     NaN   \n",
       "9756        NaN     NaN     NaN   \n",
       "11205       NaN     NaN     NaN   \n",
       "\n",
       "                                       EPISODE_NARRATIVE  \\\n",
       "52160  Tropical Depression 15W developed from a distu...   \n",
       "30020  After passing Chuuk on 28 November, Tropical S...   \n",
       "12884  Haiyan crossed Micronesia from November 3rd to...   \n",
       "9756   Between the 26th and 31st of March, Typhoon Ma...   \n",
       "11205  Typhoon Maysak had ravaged parts of Micronesia...   \n",
       "\n",
       "                                         EVENT_NARRATIVE DATA_SOURCE CETAGORY  \\\n",
       "52160                                                NaN         CSV      4.0   \n",
       "30020                                                NaN         CSV      5.0   \n",
       "12884  On the afternoon of November 1st scatterometer...         CSV      5.0   \n",
       "9756   On the night of the 26th of March, a tropical ...         CSV      5.0   \n",
       "11205  Typhoon Maysak formed over eastern Micronesia ...         CSV      5.0   \n",
       "\n",
       "      cetgory_roman category_roman  \n",
       "52160           4.0             IV  \n",
       "30020           5.0              V  \n",
       "12884           5.0              V  \n",
       "9756            5.0              V  \n",
       "11205           5.0              V  \n",
       "\n",
       "[5 rows x 54 columns]"
      ]
     },
     "execution_count": 124,
     "metadata": {},
     "output_type": "execute_result"
    }
   ],
   "source": [
    "# Let's get detail years \n",
    "details['YEAR'] = details['YEAR'].astype(str)\n",
    "\n",
    "\n",
    "\n",
    "# Let's look at just Category 4 or 5 storms\n",
    "strong_storms = details.loc[(details['category_roman'] == \"III\") |\n",
    "                            (details['category_roman'] == \"IV\") |\n",
    "                            (details['category_roman'] == \"V\")]\n",
    "\n",
    "\n",
    "strong_storms.head()"
   ]
  },
  {
   "cell_type": "code",
   "execution_count": 128,
   "metadata": {},
   "outputs": [
    {
     "data": {
      "text/html": [
       "<div>\n",
       "<style scoped>\n",
       "    .dataframe tbody tr th:only-of-type {\n",
       "        vertical-align: middle;\n",
       "    }\n",
       "\n",
       "    .dataframe tbody tr th {\n",
       "        vertical-align: top;\n",
       "    }\n",
       "\n",
       "    .dataframe thead th {\n",
       "        text-align: right;\n",
       "    }\n",
       "</style>\n",
       "<table border=\"1\" class=\"dataframe\">\n",
       "  <thead>\n",
       "    <tr style=\"text-align: right;\">\n",
       "      <th></th>\n",
       "      <th>YEAR</th>\n",
       "      <th>category_roman</th>\n",
       "      <th>storm_count</th>\n",
       "    </tr>\n",
       "  </thead>\n",
       "  <tbody>\n",
       "    <tr>\n",
       "      <th>0</th>\n",
       "      <td>2009</td>\n",
       "      <td>IV</td>\n",
       "      <td>1</td>\n",
       "    </tr>\n",
       "    <tr>\n",
       "      <th>1</th>\n",
       "      <td>2012</td>\n",
       "      <td>V</td>\n",
       "      <td>1</td>\n",
       "    </tr>\n",
       "    <tr>\n",
       "      <th>2</th>\n",
       "      <td>2013</td>\n",
       "      <td>V</td>\n",
       "      <td>1</td>\n",
       "    </tr>\n",
       "    <tr>\n",
       "      <th>3</th>\n",
       "      <td>2015</td>\n",
       "      <td>IV</td>\n",
       "      <td>1</td>\n",
       "    </tr>\n",
       "    <tr>\n",
       "      <th>4</th>\n",
       "      <td>2015</td>\n",
       "      <td>V</td>\n",
       "      <td>2</td>\n",
       "    </tr>\n",
       "    <tr>\n",
       "      <th>5</th>\n",
       "      <td>2017</td>\n",
       "      <td>III</td>\n",
       "      <td>4</td>\n",
       "    </tr>\n",
       "    <tr>\n",
       "      <th>6</th>\n",
       "      <td>2017</td>\n",
       "      <td>IV</td>\n",
       "      <td>19</td>\n",
       "    </tr>\n",
       "    <tr>\n",
       "      <th>7</th>\n",
       "      <td>2018</td>\n",
       "      <td>III</td>\n",
       "      <td>9</td>\n",
       "    </tr>\n",
       "    <tr>\n",
       "      <th>8</th>\n",
       "      <td>2018</td>\n",
       "      <td>IV</td>\n",
       "      <td>6</td>\n",
       "    </tr>\n",
       "    <tr>\n",
       "      <th>9</th>\n",
       "      <td>2018</td>\n",
       "      <td>V</td>\n",
       "      <td>4</td>\n",
       "    </tr>\n",
       "    <tr>\n",
       "      <th>10</th>\n",
       "      <td>2020</td>\n",
       "      <td>III</td>\n",
       "      <td>3</td>\n",
       "    </tr>\n",
       "    <tr>\n",
       "      <th>11</th>\n",
       "      <td>2020</td>\n",
       "      <td>IV</td>\n",
       "      <td>4</td>\n",
       "    </tr>\n",
       "    <tr>\n",
       "      <th>12</th>\n",
       "      <td>2021</td>\n",
       "      <td>III</td>\n",
       "      <td>10</td>\n",
       "    </tr>\n",
       "    <tr>\n",
       "      <th>13</th>\n",
       "      <td>2021</td>\n",
       "      <td>IV</td>\n",
       "      <td>6</td>\n",
       "    </tr>\n",
       "    <tr>\n",
       "      <th>14</th>\n",
       "      <td>2022</td>\n",
       "      <td>IV</td>\n",
       "      <td>2</td>\n",
       "    </tr>\n",
       "    <tr>\n",
       "      <th>15</th>\n",
       "      <td>2023</td>\n",
       "      <td>IV</td>\n",
       "      <td>3</td>\n",
       "    </tr>\n",
       "  </tbody>\n",
       "</table>\n",
       "</div>"
      ],
      "text/plain": [
       "    YEAR category_roman  storm_count\n",
       "0   2009             IV            1\n",
       "1   2012              V            1\n",
       "2   2013              V            1\n",
       "3   2015             IV            1\n",
       "4   2015              V            2\n",
       "5   2017            III            4\n",
       "6   2017             IV           19\n",
       "7   2018            III            9\n",
       "8   2018             IV            6\n",
       "9   2018              V            4\n",
       "10  2020            III            3\n",
       "11  2020             IV            4\n",
       "12  2021            III           10\n",
       "13  2021             IV            6\n",
       "14  2022             IV            2\n",
       "15  2023             IV            3"
      ]
     },
     "execution_count": 128,
     "metadata": {},
     "output_type": "execute_result"
    }
   ],
   "source": [
    "# Now let's plot the number of \n",
    "strong_storms_per_year = strong_storms.groupby([\"YEAR\", \"category_roman\"])['category_roman'].count()\n",
    "strong_storms_per_year = pd.DataFrame(strong_storms_per_year)\n",
    "strong_storms_per_year['storm_count'] = strong_storms_per_year['category_roman']\n",
    "\n",
    "\n",
    "strong_storms_per_year = strong_storms_per_year.drop(\"category_roman\", axis=1).reset_index()\n",
    "strong_storms_per_year#.pivot_table([\"YEAR\", \"CATEGORY\"], \"storm_count\")"
   ]
  },
  {
   "cell_type": "code",
   "execution_count": 126,
   "metadata": {},
   "outputs": [],
   "source": []
  },
  {
   "cell_type": "code",
   "execution_count": 131,
   "metadata": {},
   "outputs": [
    {
     "name": "stderr",
     "output_type": "stream",
     "text": [
      "No handles with labels found to put in legend.\n"
     ]
    },
    {
     "data": {
      "text/plain": [
       "Text(0.5, 0.98, 'Hurricane Categories by year, USA')"
      ]
     },
     "execution_count": 131,
     "metadata": {},
     "output_type": "execute_result"
    },
    {
     "data": {
      "image/png": "[encoded data removed]",
      "text/plain": [
       "<Figure size 720x720 with 1 Axes>"
      ]
     },
     "metadata": {
      "needs_background": "light"
     },
     "output_type": "display_data"
    }
   ],
   "source": [
    "f, ax = plt.subplots(figsize=(10, 10))\n",
    "\n",
    "plt.bar(strong_storms_per_year.YEAR,\n",
    "        strong_storms_per_year.storm_count),\n",
    "        # label=strong_storms_per_year.category_roman)#, label=strong_storms_per_year.CATEGORY)\n",
    "\n",
    "plt.legend()\n",
    "plt.xlabel(\"Year\")\n",
    "plt.ylabel(\"Number of Hurricanes Category III, IV, V\")\n",
    "\n",
    "plt.title(\"Recent upticks in hurricanes category III - V, with 2017 being one of the strongest years on record\")\n",
    "plt.suptitle(\"Strong Hurricanes by year, USA\", fontsize=18)"
   ]
  },
  {
   "cell_type": "code",
   "execution_count": null,
   "metadata": {},
   "outputs": [],
   "source": []
  }
 ],
 "metadata": {
  "kernelspec": {
   "display_name": "Python 3",
   "language": "python",
   "name": "python3"
  },
  "language_info": {
   "codemirror_mode": {
    "name": "ipython",
    "version": 3
   },
   "file_extension": ".py",
   "mimetype": "text/x-python",
   "name": "python",
   "nbconvert_exporter": "python",
   "pygments_lexer": "ipython3",
   "version": "3.9.7"
  }
 },
 "nbformat": 4,
 "nbformat_minor": 2
}
