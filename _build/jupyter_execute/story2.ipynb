{
 "cells": [
  {
   "cell_type": "raw",
   "id": "6f512d94",
   "metadata": {},
   "source": [
    "---\n",
    "title: \"Story 2\"\n",
    "author: \"Andrew Bowen\"\n",
    "date: \"2023-09-16\"\n",
    "output: pdf_document\n",
    "---"
   ]
  },
  {
   "cell_type": "code",
   "execution_count": 1,
   "id": "a72c013a",
   "metadata": {
    "lines_to_next_cell": 2,
    "name": "setup",
    "tags": [
     "remove_cell"
    ]
   },
   "outputs": [
    {
     "ename": "NameError",
     "evalue": "name 'library' is not defined",
     "output_type": "error",
     "traceback": [
      "\u001b[0;31m---------------------------------------------------------------------------\u001b[0m",
      "\u001b[0;31mNameError\u001b[0m                                 Traceback (most recent call last)",
      "\u001b[0;32m/var/folders/60/nwdftyjj6cg3ysz_pf9stwtc0000gn/T/ipykernel_49043/4258131450.py\u001b[0m in \u001b[0;36m<module>\u001b[0;34m\u001b[0m\n\u001b[0;32m----> 1\u001b[0;31m \u001b[0mlibrary\u001b[0m\u001b[0;34m(\u001b[0m\u001b[0mtidyverse\u001b[0m\u001b[0;34m)\u001b[0m\u001b[0;34m\u001b[0m\u001b[0;34m\u001b[0m\u001b[0m\n\u001b[0m\u001b[1;32m      2\u001b[0m \u001b[0mlibrary\u001b[0m\u001b[0;34m(\u001b[0m\u001b[0mdevtools\u001b[0m\u001b[0;34m)\u001b[0m\u001b[0;34m\u001b[0m\u001b[0;34m\u001b[0m\u001b[0m\n\u001b[1;32m      3\u001b[0m \u001b[0minstall_github\u001b[0m\u001b[0;34m(\u001b[0m\u001b[0;34m\"mikeasilva/blsAPI\"\u001b[0m\u001b[0;34m)\u001b[0m\u001b[0;34m\u001b[0m\u001b[0;34m\u001b[0m\u001b[0m\n",
      "\u001b[0;31mNameError\u001b[0m: name 'library' is not defined"
     ]
    }
   ],
   "source": [
    "library(tidyverse)\n",
    "library(devtools)\n",
    "install_github(\"mikeasilva/blsAPI\")"
   ]
  },
  {
   "cell_type": "code",
   "execution_count": null,
   "id": "1a3e98e3",
   "metadata": {
    "lines_to_next_cell": 2
   },
   "outputs": [],
   "source": [
    "library(blsAPI)"
   ]
  },
  {
   "cell_type": "markdown",
   "id": "48d6001e",
   "metadata": {},
   "source": [
    "## Data Sources\n",
    "\n",
    "- [New York Fed API](https://markets.newyorkfed.org/static/docs/markets-api.html#/)\n",
    "- [BLS Data API](https://www.bls.gov/developers/api_signature_v2.htm#single) - used for unemployment data\n",
    "\n",
    "The BLS API has an [R wrapper](https://www.bls.gov/developers/api_r.htm) that allows for easy data pulls from the API.\n"
   ]
  },
  {
   "cell_type": "code",
   "execution_count": null,
   "id": "b7015fcb",
   "metadata": {
    "lines_to_next_cell": 0
   },
   "outputs": [],
   "source": [
    "\n",
    "response <- blsAPI('LAUCN040010000000005') \n",
    "json <- fromJSON(response) "
   ]
  },
  {
   "cell_type": "markdown",
   "id": "7f6e4b26",
   "metadata": {},
   "source": [
    "\n",
    "\n"
   ]
  }
 ],
 "metadata": {
  "jupytext": {
   "cell_metadata_filter": "name,tags,-all",
   "main_language": "R",
   "notebook_metadata_filter": "-all",
   "text_representation": {
    "extension": ".Rmd",
    "format_name": "rmarkdown"
   }
  },
  "language_info": {
   "codemirror_mode": {
    "name": "ipython",
    "version": 3
   },
   "file_extension": ".py",
   "mimetype": "text/x-python",
   "name": "python",
   "nbconvert_exporter": "python",
   "pygments_lexer": "ipython3",
   "version": "3.9.7"
  }
 },
 "nbformat": 4,
 "nbformat_minor": 5
}