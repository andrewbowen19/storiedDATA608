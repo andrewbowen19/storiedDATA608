{
 "cells": [
  {
   "cell_type": "raw",
   "id": "1318a87c",
   "metadata": {
    "lines_to_next_cell": 0
   },
   "source": [
    "---\n",
    "title: \"Story 2\"\n",
    "author: \"Andrew Bowen\"\n",
    "date: \"2023-09-16\"\n",
    "output: pdf_document\n",
    "---"
   ]
  },
  {
   "cell_type": "markdown",
   "id": "03009e59",
   "metadata": {},
   "source": [
    "# Story 2\n"
   ]
  },
  {
   "cell_type": "code",
   "execution_count": 1,
   "id": "8c702b1d",
   "metadata": {
    "name": "setup",
    "tags": [
     "remove_cell"
    ]
   },
   "outputs": [
    {
     "ename": "NameError",
     "evalue": "name 'library' is not defined",
     "output_type": "error",
     "traceback": [
      "\u001b[0;31m---------------------------------------------------------------------------\u001b[0m",
      "\u001b[0;31mNameError\u001b[0m                                 Traceback (most recent call last)",
      "Cell \u001b[0;32mIn[1], line 1\u001b[0m\n\u001b[0;32m----> 1\u001b[0m \u001b[43mlibrary\u001b[49m(tidyverse)\n\u001b[1;32m      2\u001b[0m library(httr)\n\u001b[1;32m      3\u001b[0m library(jsonlite)\n",
      "\u001b[0;31mNameError\u001b[0m: name 'library' is not defined"
     ]
    }
   ],
   "source": [
    "library(tidyverse)\n",
    "library(httr)\n",
    "library(jsonlite)\n",
    "library(glue)\n",
    "library(lubridate)\n",
    "library(gridExtra)\n",
    "library(cowplot)"
   ]
  },
  {
   "cell_type": "markdown",
   "id": "8441a8e7",
   "metadata": {},
   "source": [
    "## Introduction\n",
    "Inflation and its economic effects have been in the news recently. The Fed's goal has been to curb inflation (the general rise in the price of goods and services) and maintain a [low unemployment rate](https://www.investopedia.com/terms/u/unemployment.asp) -- the number of active job-seekers out of work. [The Phillips Curve](https://socialsci.libretexts.org/Bookshelves/Economics/Economics_(Boundless)/23%3A_Inflation_and_Unemployment/23.1%3A_The_Relationship_Between_Inflation_and_Unemployment#:~:text=The%20Phillips%20curve%20shows%20the%20inverse%20trade%2Doff%20between%20rates,low%2C%20inflation%20will%20be%20high.) is an economic principle stating the general negative relationship between these two variables. Simply put, economies with higher inflation tend to have lower unemployment, and vice versa.\n",
    "\n",
    "The Federal Reserve (Fed) is central bank of the United States, and is tasked with leveraging monetary policy to curb both these factors. This means the Fed can face the difficult choice of *either* reducing inflation *or* curbing unemployment. The main way the Fed can do this is via monetary policy, or the control of interest rates, which in theory can impact the amount of spending & investingment in an economy. Jerome Powell, the Federal Reserve chairman, has stated a goal of accomplishing both these goals, something that the Phillips curve states is impossible.\n",
    "\n",
    "In this RMarkdown notebook we'll take a look at interest rate, unemployment, and inflation data to see if the Fed has accomplished these goals. \n",
    "\n",
    "## Data Sources\n",
    "We'll be using the API from the St Louis Federal Reserve forinterest rate data\n",
    "- [FRED API](https://fredhelp.stlouisfed.org/fred/about/about-fred/what-is-fred/) - \n",
    "- [BLS Data API](https://www.bls.gov/developers/api_signature_v2.htm#single) - used for unemployment data as well as consumer price idnex data"
   ]
  },
  {
   "cell_type": "markdown",
   "id": "677799ed",
   "metadata": {},
   "source": [
    "To use the above APIs, one needs to register for requisite API keys. You can learn more about [registering for the FRED API here](https://fred.stlouisfed.org/docs/api/api_key.html) and the [BLS API here](https://data.bls.gov/registrationEngine/). To follow best practices, I'll be setting my API keys as R environment variables within my local environment, and pulling the values below for my API calls. You can set your token via the R `Sys.setenv` built-in function."
   ]
  },
  {
   "cell_type": "code",
   "execution_count": null,
   "id": "204beecf",
   "metadata": {
    "name": "get-api-keys"
   },
   "outputs": [],
   "source": [
    "# Retrieve FRED and BLS API Keys\n",
    "registration_key = Sys.getenv(\"BLS_API_KEY\")\n",
    "fed_api_key <- Sys.getenv(\"FED_API_KEY\")"
   ]
  },
  {
   "cell_type": "markdown",
   "id": "00bc7665",
   "metadata": {},
   "source": [
    "## Data Collection\n",
    "\n",
    "### Consumer Price Index\n",
    "First we'll pull data on the Consumer Price Index (CPI) from the BLS API. [CPI is a measure of the general prices for a basket of goods at a given point in time](https://www.bls.gov/cpi/). As such, it can serve as a good proxy measure for inflation (the general increase of price for gods and services) within an economy."
   ]
  },
  {
   "cell_type": "code",
   "execution_count": null,
   "id": "501bb4fe",
   "metadata": {
    "name": "get-cpi-time-series"
   },
   "outputs": [],
   "source": [
    "# Call CPI data from BLS\n",
    "registration_key <- Sys.getenv(\"BLS_API_KEY\")\n",
    "series_id <- 'APU0000702111'\n",
    "series_url <- glue(\"https://api.bls.gov/publicAPI/v2/timeseries/data/{series_id}?registrationkey={registration_key}&startyear=2003&endyear=2023\")\n",
    "\n",
    "response <- GET(series_url)"
   ]
  },
  {
   "cell_type": "code",
   "execution_count": null,
   "id": "c4aa476c",
   "metadata": {
    "message": false,
    "name": "cpi-wrangling"
   },
   "outputs": [],
   "source": [
    "# Format CPI data\n",
    "response_txt <- content(response, \"text\", encoding = \"UTF-8\")\n",
    "json <- fromJSON(response_txt, flatten = TRUE)\n",
    "\n",
    "cpi <- as.data.frame(json[[4]])$series.data[[1]]\n",
    "head(cpi)"
   ]
  },
  {
   "cell_type": "markdown",
   "id": "cd45df7b",
   "metadata": {
    "lines_to_next_cell": 0
   },
   "source": [
    "We'll need to pull an additional 5 years of CPI data to "
   ]
  },
  {
   "cell_type": "code",
   "execution_count": null,
   "id": "0f7633f9",
   "metadata": {
    "lines_to_next_cell": 2
   },
   "outputs": [],
   "source": [
    "series_url <= glue(\"https://api.bls.gov/publicAPI/v2/timeseries/data/{series_id}?registrationkey={registration_key}&startyear=1998&endyear=2003\")\n",
    "response <- GET(series_url)\n",
    "response_txt <- content(response, \"text\", encoding = \"UTF-8\")\n",
    "json <- fromJSON(response_txt, flatten = TRUE)\n",
    "\n",
    "cpi_older <- as.data.frame(json[[4]])$series.data[[1]]"
   ]
  },
  {
   "cell_type": "code",
   "execution_count": null,
   "id": "deb6a74a",
   "metadata": {
    "lines_to_next_cell": 2
   },
   "outputs": [],
   "source": [
    "# Combining our CPI data\n",
    "cpi_df <- rbind(cpi, cpi_older)\n",
    "\n",
    "# Converting dates from BLS format\n",
    "cpi_df$date <- str_c(cpi_df$periodName,\" \", cpi_df$year)\n",
    "cpi_df$date <- myd(cpi_df$date, truncated=1)\n",
    "\n",
    "# cast types\n",
    "cpi_df$cpi <- as.double(cpi$value)\n",
    "cpi_df <- cpi_df[, c(\"date\", \"cpi\")]"
   ]
  },
  {
   "cell_type": "markdown",
   "id": "74f0b92a",
   "metadata": {},
   "source": [
    "Now let's make a simple plot of our CPI data over time. With this scaling we can see a steady increase of prices since the start of 2020. "
   ]
  },
  {
   "cell_type": "code",
   "execution_count": null,
   "id": "5656b74b",
   "metadata": {},
   "outputs": [],
   "source": [
    "cpi_plot <- ggplot(cpi_df, aes(x=date, y=cpi)) + geom_line() + \n",
    "  labs(x=\"Month\", y=\"CPI\", title=\"Consumer Price Index over Time - All US\", subtitle=\"The CPI has shown a steady increase over the past few years post-COVID\")\n",
    "\n",
    "cpi_plot"
   ]
  },
  {
   "cell_type": "markdown",
   "id": "5385462c",
   "metadata": {},
   "source": [
    "### Federal Funds Rate\n",
    "\n",
    "Grbabing interest rate data from the [St Louis Fed API (FRED)](https://fred.stlouisfed.org/docs/api/fred/). The [endpoint I'm using](https://fred.stlouisfed.org/series/FEDFUNDS) contains information about the Federal Effective Funds rate, which is the [interest rate charged to banks borrowing overnight to meet their reserve requirements](https://www.investopedia.com/terms/f/federalfundsrate.asp). This is often an economic lever the [Federal Reserve (Fed) can pull](https://www.nytimes.com/2023/09/19/business/economy/fed-meeting-interest-rates-inflation.html?searchResultPosition=2) in order to curb inflation or encourage spending in the economy."
   ]
  },
  {
   "cell_type": "code",
   "execution_count": null,
   "id": "db9ee738",
   "metadata": {
    "message": false,
    "name": "fred-url",
    "tags": [
     "remove_input"
    ]
   },
   "outputs": [],
   "source": [
    "fred_url <- glue(\"https://api.stlouisfed.org/fred/series/observations?series_id=EFFR&api_key={fed_api_key}&file_type=json&frequency=m&observation_start=1998-08-01\")"
   ]
  },
  {
   "cell_type": "code",
   "execution_count": null,
   "id": "6bbdfdfd",
   "metadata": {
    "name": "fred-api-call"
   },
   "outputs": [],
   "source": [
    "# Pull data from FRED API\n",
    "fed_response <- GET(fred_url)"
   ]
  },
  {
   "cell_type": "markdown",
   "id": "22f4d827",
   "metadata": {
    "lines_to_next_cell": 0
   },
   "source": [
    "Let's do some basic data wrangling of our FRED API response to get it into a good format for plotting (i.e., an R `data.frame`)"
   ]
  },
  {
   "cell_type": "code",
   "execution_count": null,
   "id": "ac40c061",
   "metadata": {
    "lines_to_next_cell": 2,
    "name": "wrangle-fed-response"
   },
   "outputs": [],
   "source": [
    "# Wrangle response data into an R dataframe\n",
    "fed_response_txt <- content(fed_response, \"text\", encoding = \"UTF-8\")\n",
    "fed_json <- json <- fromJSON(fed_response_txt, flatten = TRUE)\n",
    "fed <- fed_json$observations"
   ]
  },
  {
   "cell_type": "markdown",
   "id": "2498f443",
   "metadata": {
    "lines_to_next_cell": 0
   },
   "source": [
    "Let's clean up our federal funds rate data, we'll eventually want to merge this data with our CPI and Unemployment data, so consistent data typing will be needed"
   ]
  },
  {
   "cell_type": "code",
   "execution_count": null,
   "id": "6a183a65",
   "metadata": {
    "lines_to_next_cell": 2,
    "name": "clean-fed-response",
    "warning": false
   },
   "outputs": [],
   "source": [
    "# Convert types to align to other datasets\n",
    "fed$date <- as.Date(fed$date)\n",
    "fed$fed_funds_rate <- as.double(fed$value)\n",
    "\n",
    "fed <- fed[, c(\"date\", \"fed_funds_rate\")]\n",
    "head(fed, 5)"
   ]
  },
  {
   "cell_type": "markdown",
   "id": "a5d94420",
   "metadata": {},
   "source": [
    "Now let's plot a simple time series of our federal funds rate date"
   ]
  },
  {
   "cell_type": "code",
   "execution_count": null,
   "id": "45976467",
   "metadata": {
    "name": "plot-fed-funds-rate",
    "warning": false
   },
   "outputs": [],
   "source": [
    "# Plotting Federal Funds Rate over time\n",
    "fed_rate_plot <- ggplot(fed, aes(x=date, y=fed_funds_rate)) + \n",
    "  geom_line() + labs(y=\"Fed Funds Rate\", x=\"Month\", title =\"Effective Federal Funds Rate over Time\", substitle=\"Recent federal interest rates\")\n",
    "fed_rate_plot"
   ]
  },
  {
   "cell_type": "markdown",
   "id": "f0877645",
   "metadata": {},
   "source": [
    "### Unemployment Rate\n",
    "\n",
    "I found a CSV file containing [seasonally adjusted unemployment data from BLS here](https://beta.bls.gov/dataViewer/view/timeseries/LNS14000000). I've uploaded that to [my GitHub here](https://github.com/andrewbowen19/storiesDATA608/blob/main/data/unemployment-bls.csv) and will be pulling from that URL"
   ]
  },
  {
   "cell_type": "code",
   "execution_count": null,
   "id": "19404055",
   "metadata": {
    "message": false,
    "name": "read-unemployment-data",
    "tags": [
     "remove_input"
    ]
   },
   "outputs": [],
   "source": [
    "unemployment <- read.csv(\"https://raw.githubusercontent.com/andrewbowen19/storiesDATA608/main/data/unemployment-bls.csv\")"
   ]
  },
  {
   "cell_type": "markdown",
   "id": "b3db31aa",
   "metadata": {
    "lines_to_next_cell": 0
   },
   "source": [
    "As above, we'll need to do some basic cleaning of our unemployment data before merging & plotting."
   ]
  },
  {
   "cell_type": "code",
   "execution_count": null,
   "id": "725fa97c",
   "metadata": {
    "lines_to_next_cell": 2,
    "name": "clean-unemployment-data",
    "warning": false
   },
   "outputs": [],
   "source": [
    "unemployment$date <- as.Date(parse_date_time(unemployment$Label, order = \"Ym\"))\n",
    "unemployment$unemployment_rate <- unemployment$Value\n",
    "\n",
    "unemployment <- unemployment[, c(\"date\", \"unemployment_rate\")]\n",
    "head(unemployment, 5)"
   ]
  },
  {
   "cell_type": "markdown",
   "id": "b07fffe6",
   "metadata": {
    "lines_to_next_cell": 0
   },
   "source": [
    "Let's quickly plot the US unemployment rate over time (1998 - 2003)"
   ]
  },
  {
   "cell_type": "code",
   "execution_count": null,
   "id": "2b80067b",
   "metadata": {
    "lines_to_next_cell": 2,
    "name": "plot-unemployment",
    "warning": false
   },
   "outputs": [],
   "source": [
    "unemployment_plot <- ggplot(unemployment, aes(x=date, y=unemployment_rate)) + geom_line() + \n",
    "  labs(x=\"Month\", y=\"Unemployment\",\n",
    "       title=\"US Unemployment Rate 1998 - 2023\",\n",
    "       subtitle=\"The post-COVID spike in unemployment has come back to earth\")\n",
    "\n",
    "\n",
    "unemployment_plot"
   ]
  },
  {
   "cell_type": "markdown",
   "id": "aaa17329",
   "metadata": {
    "lines_to_next_cell": 0
   },
   "source": [
    "## Combining our Datasets\n",
    "\n",
    "Now we can join together our datasets to overlay the data points in a single panel plot"
   ]
  },
  {
   "cell_type": "code",
   "execution_count": null,
   "id": "86d4eb72",
   "metadata": {
    "lines_to_next_cell": 2,
    "name": "merge-economic-data"
   },
   "outputs": [],
   "source": [
    "dat <- merge(unemployment, fed, by=c(\"date\", \"date\"))\n",
    "df <- merge(dat, cpi_df, by=c(\"date\", \"date\"))"
   ]
  },
  {
   "cell_type": "markdown",
   "id": "0ca610bb",
   "metadata": {},
   "source": [
    "Let's plot the time series three variables of interest:\n",
    "\n",
    "- *Consumer Price Index (CPI)*\n",
    "- *Unemployment Rate (%)*\n",
    "- *Federal Funds Rate (%)*"
   ]
  },
  {
   "cell_type": "code",
   "execution_count": null,
   "id": "c8a6490b",
   "metadata": {
    "name": "panel-plot-all-time",
    "warning": false
   },
   "outputs": [],
   "source": [
    "# Create Panel plot of our 3 metrics\n",
    "labels_removed <- labs(x= NULL, title=NULL, subtitle=NULL)\n",
    "\n",
    "# Unemployment\n",
    "p1 <- ggplot(df, aes(x=date, y=unemployment_rate)) + geom_line() + \n",
    "  labs(x=NULL, y=\"Unemployment Rate\",\n",
    "       title=\"US Unemployment Rate, Federal Funds Rate, and CPI 1998 - 2003\",\n",
    "       subtitle=\"The Fed's control of interest rates has coincided with lower unemployment, but inflation remains an open question today.\")\n",
    "\n",
    "# Fed Funds Rate Plot\n",
    "p2 <- ggplot(df, aes(x=date, y=fed_funds_rate)) + \n",
    "  geom_line() + labs(x=NULL, y=\"Fed Funds Rate\")\n",
    "\n",
    "p3 <- ggplot(df, aes(x=date, y=cpi)) + geom_line() + \n",
    "  labs(x=\"Month\", y=\"CPI\")\n",
    "\n",
    "# Plot unemployment, fed funds rate, and CPI in single panel\n",
    "economy_plot <- plot_grid(p1, p2, p3,\n",
    "                          align=\"v\", nrow=3,\n",
    "                          rel_heights = c(1, 1, 1), labels=)\n",
    "\n"
   ]
  },
  {
   "cell_type": "markdown",
   "id": "9dd13888",
   "metadata": {},
   "source": [
    "Looking at the panel plot above, we see the period of \"easy money\" from 2008 - 2016. This came in the wake of the Great Recession, when the Fed was looking to tackle some of the highest levels of national unemployment since the Great Depression. The CPI stays relatively flat during this period, as near-zero interest rates were in place to maximize employment. In simpler terms, the economy had not \"super-heated\" as a result of low interest rates *yet*, so the Fed kept them low to tackle unemployment.\n",
    "\n",
    "The [natural rate of unemployment in the US is $~4.5\\%$](https://sgp.fas.org/crs/misc/IF10443.pdf), which started to occur around 2016. By this point, inflationary pressures weren't occurring yet in the CPI panel above.\n",
    "\n",
    "### Economic Indicators During COVID\n",
    "One time period of interest is 2020-onwards, as the economic effects of COVID-19 are still impacting society today."
   ]
  },
  {
   "cell_type": "code",
   "execution_count": null,
   "id": "3a359699",
   "metadata": {
    "language": "rpanel-plot-covid-era",
    "warning": false
   },
   "outputs": [],
   "source": [
    "# Filter data to covid-era and create component plots\n",
    "covid <- df %>% filter(date > date(\"2019-12-31\"))\n",
    "\n",
    "unemp_covid <- ggplot(covid, aes(date, unemployment_rate)) + geom_line() + labs(x=NULL, y=\"Unemployment\")\n",
    "fed_covid <- ggplot(covid, aes(date, fed_funds_rate)) + geom_line() + labs(x=NULL, y=\"Fed Funds Rate\")\n",
    "cpi_covid <- ggplot(covid, aes(date, cpi)) + geom_line() + labs(x=\"Month\", y=\"CPI\")\n",
    "\n",
    "# Plot covid-era unemployment, fed funds rate, and CPI in single panel\n",
    "plot_grid(unemp_covid,\n",
    "          fed_covid,\n",
    "          cpi_covid, align=\"v\",\n",
    "             nrow=3, rel_heights = c(1, 1, 1))"
   ]
  },
  {
   "cell_type": "markdown",
   "id": "3df1d7e9",
   "metadata": {},
   "source": [
    "From our zoomed-in plot above of economic activity during the COVID era, we see unemployment returning to low levels after an initial spike of layoffs at the beginning of the pandemic. Some of this was the result of [federal COVID economic aid](https://home.treasury.gov/policy-issues/coronavirus), which provided loans and funding to businesses to continue operating with public health measures impacting productivity. While this happened, an initial drop in the federal funds rate was made to encourage public credit and investment in the face of pandemic-induced uncertainty. \n",
    "\n",
    "This rate increase did coincide with a sharp reduction in unemployment, but also saw a continuation of inflation, as the CPI chart ticked higher throughout the COVID era (even in the face of interest rate hikes beginning in 2022)."
   ]
  },
  {
   "cell_type": "markdown",
   "id": "3f161f38",
   "metadata": {},
   "source": [
    "## Conclusion\n",
    "Overall, the Fed has the (unenviable) task of keeping *both* low unempoyment rates and low inflation. In recent years, the Fed has been able to maintain low unemployment in the face of COVID-related economic impacts. However, inflation has continued to be the thorn in the side of the federal reserve after the pandemic.\n",
    "\n",
    "In short, the Federal reserve was able to keep inflation and unemployment low for stretches, but external economic factors have made that a tougher job recently. It remains to be seen whether the central bank can keep prices down in the next few business cycles.\n",
    "\n",
    "\n",
    "\n"
   ]
  }
 ],
 "metadata": {
  "jupytext": {
   "cell_metadata_filter": "name,message,warning,tags,language,-all",
   "main_language": "R",
   "notebook_metadata_filter": "-all",
   "text_representation": {
    "extension": ".Rmd",
    "format_name": "rmarkdown"
   }
  },
  "language_info": {
   "codemirror_mode": {
    "name": "ipython",
    "version": 3
   },
   "file_extension": ".py",
   "mimetype": "text/x-python",
   "name": "python",
   "nbconvert_exporter": "python",
   "pygments_lexer": "ipython3",
   "version": "3.9.18"
  }
 },
 "nbformat": 4,
 "nbformat_minor": 5
}