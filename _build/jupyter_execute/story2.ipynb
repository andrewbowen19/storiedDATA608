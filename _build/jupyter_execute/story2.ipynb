{
 "cells": [
  {
   "cell_type": "raw",
   "id": "75c4872a",
   "metadata": {
    "lines_to_next_cell": 0
   },
   "source": [
    "---\n",
    "title: \"Story 2\"\n",
    "author: \"Andrew Bowen\"\n",
    "date: \"2023-09-16\"\n",
    "output: pdf_document\n",
    "---"
   ]
  },
  {
   "cell_type": "markdown",
   "id": "4a886945",
   "metadata": {},
   "source": [
    "# Story 2"
   ]
  },
  {
   "cell_type": "code",
   "execution_count": 1,
   "id": "212bbad2",
   "metadata": {
    "name": "setup",
    "tags": [
     "remove_cell"
    ]
   },
   "outputs": [
    {
     "ename": "NameError",
     "evalue": "name 'library' is not defined",
     "output_type": "error",
     "traceback": [
      "\u001b[0;31m---------------------------------------------------------------------------\u001b[0m",
      "\u001b[0;31mNameError\u001b[0m                                 Traceback (most recent call last)",
      "\u001b[0;32m/var/folders/60/nwdftyjj6cg3ysz_pf9stwtc0000gn/T/ipykernel_16285/4084533587.py\u001b[0m in \u001b[0;36m<module>\u001b[0;34m\u001b[0m\n\u001b[0;32m----> 1\u001b[0;31m \u001b[0mlibrary\u001b[0m\u001b[0;34m(\u001b[0m\u001b[0mtidyverse\u001b[0m\u001b[0;34m)\u001b[0m\u001b[0;34m\u001b[0m\u001b[0;34m\u001b[0m\u001b[0m\n\u001b[0m\u001b[1;32m      2\u001b[0m \u001b[0mlibrary\u001b[0m\u001b[0;34m(\u001b[0m\u001b[0mhttr\u001b[0m\u001b[0;34m)\u001b[0m\u001b[0;34m\u001b[0m\u001b[0;34m\u001b[0m\u001b[0m\n\u001b[1;32m      3\u001b[0m \u001b[0mlibrary\u001b[0m\u001b[0;34m(\u001b[0m\u001b[0mjsonlite\u001b[0m\u001b[0;34m)\u001b[0m\u001b[0;34m\u001b[0m\u001b[0;34m\u001b[0m\u001b[0m\n\u001b[1;32m      4\u001b[0m \u001b[0mlibrary\u001b[0m\u001b[0;34m(\u001b[0m\u001b[0mglue\u001b[0m\u001b[0;34m)\u001b[0m\u001b[0;34m\u001b[0m\u001b[0;34m\u001b[0m\u001b[0m\n\u001b[1;32m      5\u001b[0m \u001b[0mlibrary\u001b[0m\u001b[0;34m(\u001b[0m\u001b[0mlubridate\u001b[0m\u001b[0;34m)\u001b[0m\u001b[0;34m\u001b[0m\u001b[0;34m\u001b[0m\u001b[0m\n",
      "\u001b[0;31mNameError\u001b[0m: name 'library' is not defined"
     ]
    }
   ],
   "source": [
    "library(tidyverse)\n",
    "library(httr)\n",
    "library(jsonlite)\n",
    "library(glue)\n",
    "library(lubridate)"
   ]
  },
  {
   "cell_type": "markdown",
   "id": "a8d7f9f3",
   "metadata": {},
   "source": [
    "## Introduction\n",
    "Inflation and its economic effects have been in the news recently. The Fed's goal has been to curb inflation and maintain low unemployment. [The Phillips Curve](https://socialsci.libretexts.org/Bookshelves/Economics/Economics_(Boundless)/23%3A_Inflation_and_Unemployment/23.1%3A_The_Relationship_Between_Inflation_and_Unemployment#:~:text=The%20Phillips%20curve%20shows%20the%20inverse%20trade%2Doff%20between%20rates,low%2C%20inflation%20will%20be%20high.) is an economic principle stating the general negative relationship between these two variables.\n",
    "\n",
    "## Data Sources\n",
    "\n",
    "- [New York Fed API](https://markets.newyorkfed.org/static/docs/markets-api.html#/)\n",
    "- [BLS Data API](https://www.bls.gov/developers/api_signature_v2.htm#single) - used for unemployment data\n",
    "\n",
    "The BLS API has an [R wrapper](https://www.bls.gov/developers/api_r.htm) that allows for easy data pulls from the API.\n"
   ]
  },
  {
   "cell_type": "code",
   "execution_count": null,
   "id": "c9af2362",
   "metadata": {
    "lines_to_next_cell": 0
   },
   "outputs": [],
   "source": [
    "url <- \"https://api.bls.gov/publicAPI/v2/timeseries/popular?survey=AP\"\n",
    "response <- GET(url)\n",
    "\n",
    "response_txt <- content(response, \"text\", encoding = \"UTF-8\")\n",
    "json <- fromJSON(response_txt)\n",
    "\n",
    "json"
   ]
  },
  {
   "cell_type": "markdown",
   "id": "8ce8599d",
   "metadata": {},
   "source": [
    "## Getting CPI time series data"
   ]
  },
  {
   "cell_type": "code",
   "execution_count": null,
   "id": "ec7fedf3",
   "metadata": {
    "name": "get cpi-time-series"
   },
   "outputs": [],
   "source": [
    "# Call CPI data from BLS\n",
    "registration_key <- Sys.getenv(\"BLS_API_KEY\")\n",
    "series_id <- 'APU0000702111'\n",
    "series_url <- glue(\"https://api.bls.gov/publicAPI/v2/timeseries/data/{series_id}?registrationkey={registration_key}\")\n",
    "\n",
    "response <- GET(series_url)"
   ]
  },
  {
   "cell_type": "code",
   "execution_count": null,
   "id": "fd2e69aa",
   "metadata": {
    "message": false
   },
   "outputs": [],
   "source": [
    "# Format CPI data\n",
    "response_txt <- content(response, \"text\", encoding = \"UTF-8\")\n",
    "json <- fromJSON(response_txt, flatten = TRUE)\n",
    "\n",
    "cpi <- as.data.frame(json[[4]])$series.data[[1]]\n",
    "head(cpi)"
   ]
  },
  {
   "cell_type": "markdown",
   "id": "4d9ebde5",
   "metadata": {
    "lines_to_next_cell": 0
   },
   "source": [
    "We'll need to pull an additional 5 years of CPI data"
   ]
  },
  {
   "cell_type": "code",
   "execution_count": null,
   "id": "c6519682",
   "metadata": {
    "lines_to_next_cell": 2
   },
   "outputs": [],
   "source": [
    "series_url <= glue(\"https://api.bls.gov/publicAPI/v2/timeseries/data/{series_id}?registrationkey={registration_key}&startyear=1998&endyear=2003\")\n",
    "response <- GET(series_url)\n",
    "response_txt <- content(response, \"text\", encoding = \"UTF-8\")\n",
    "json <- fromJSON(response_txt, flatten = TRUE)\n",
    "\n",
    "cpi_older <- as.data.frame(json[[4]])$series.data[[1]]"
   ]
  },
  {
   "cell_type": "code",
   "execution_count": null,
   "id": "ddca4c60",
   "metadata": {
    "lines_to_next_cell": 2
   },
   "outputs": [],
   "source": [
    "# Combining our CPI data\n",
    "cpi_df <- rbind(cpi, cpi_older)\n",
    "\n",
    "# Converting dates from BLS format\n",
    "cpi_df$date <- str_c(cpi_df$periodName,\" \", cpi_df$year)\n",
    "cpi_df$date <- myd(cpi_df$date, truncated=1)\n",
    "\n",
    "# cast types\n",
    "cpi_df$cpi <- as.double(cpi$value)"
   ]
  },
  {
   "cell_type": "markdown",
   "id": "0774882f",
   "metadata": {
    "lines_to_next_cell": 0
   },
   "source": [
    "Now let's make a simple plot of our CPI data over time"
   ]
  },
  {
   "cell_type": "code",
   "execution_count": null,
   "id": "79a1f5d7",
   "metadata": {},
   "outputs": [],
   "source": [
    "ggplot(cpi_df, aes(x=date, y=cpi)) + geom_line() + \n",
    "  labs(x=\"Month\", y=\"Consumer Price Index (CPI)\", title=\"Consumer Price Index over Time - All US\", subtitle=\"The CPI has shown a steady increase over the past few years post-COVID\")"
   ]
  },
  {
   "cell_type": "markdown",
   "id": "8ee5f623",
   "metadata": {},
   "source": [
    "## Grabbing Interest Rate Data\n",
    "\n",
    "Grbabing interest rate data from the [St Louis Fed API (FRED)](https://fred.stlouisfed.org/docs/api/fred/). The [endpoint I'm using](https://fred.stlouisfed.org/series/FEDFUNDS) contains information about the Federal Effective Funds rate, which is the [interest rate charged to banks borrowing overnight to meet their reserve requirements](https://www.investopedia.com/terms/f/federalfundsrate.asp)"
   ]
  },
  {
   "cell_type": "code",
   "execution_count": null,
   "id": "21d58faf",
   "metadata": {},
   "outputs": [],
   "source": [
    "# Use an environement variable for API token\n",
    "fed_api_key <- Sys.getenv(\"FED_API_KEY\")\n",
    "url <- glue(\"https://api.stlouisfed.org/fred/series/observations?series_id=EFFR&api_key={fed_api_key}&file_type=json&frequency=m&observation_start=1998-08-01\")\n",
    "\n",
    "# Pull data from FRED API\n",
    "fed_response <- GET(url)"
   ]
  },
  {
   "cell_type": "markdown",
   "id": "f54db0db",
   "metadata": {
    "lines_to_next_cell": 0
   },
   "source": [
    "Let's do some basic data wrangling of our FRED API response to get it into a good format for plotting"
   ]
  },
  {
   "cell_type": "code",
   "execution_count": null,
   "id": "717106d3",
   "metadata": {
    "lines_to_next_cell": 2
   },
   "outputs": [],
   "source": [
    "# Write Response data to R dataframe\n",
    "fed_response_txt <- content(fed_response, \"text\", encoding = \"UTF-8\")\n",
    "fed_json <- json <- fromJSON(fed_response_txt, flatten = TRUE)\n",
    "fed <- fed_json$observations"
   ]
  },
  {
   "cell_type": "markdown",
   "id": "14207a64",
   "metadata": {
    "lines_to_next_cell": 0
   },
   "source": [
    "Let's clean up our federal funds rate data"
   ]
  },
  {
   "cell_type": "code",
   "execution_count": null,
   "id": "63f855cd",
   "metadata": {
    "lines_to_next_cell": 0
   },
   "outputs": [],
   "source": [
    "# Convert types\n",
    "fed$date <- as.Date(fed$date)\n",
    "fed$rate <- as.double(fed$value)\n",
    "head(fed)"
   ]
  },
  {
   "cell_type": "markdown",
   "id": "915aab32",
   "metadata": {},
   "source": [
    "\n",
    "\n"
   ]
  },
  {
   "cell_type": "code",
   "execution_count": null,
   "id": "ffc46e67",
   "metadata": {},
   "outputs": [],
   "source": [
    "# Plotting Federal Funds Rate over time\n",
    "ggplot(fed, aes(x=date, y=rate)) + \n",
    "  geom_line() + labs(y=\"Federal Funds Rate\", x=\"Month\", title =\"Effective Federal Funds Rate over Time\")"
   ]
  }
 ],
 "metadata": {
  "jupytext": {
   "cell_metadata_filter": "tags,name,message,-all",
   "main_language": "R",
   "notebook_metadata_filter": "-all",
   "text_representation": {
    "extension": ".Rmd",
    "format_name": "rmarkdown"
   }
  },
  "language_info": {
   "codemirror_mode": {
    "name": "ipython",
    "version": 3
   },
   "file_extension": ".py",
   "mimetype": "text/x-python",
   "name": "python",
   "nbconvert_exporter": "python",
   "pygments_lexer": "ipython3",
   "version": "3.9.7"
  }
 },
 "nbformat": 4,
 "nbformat_minor": 5
}